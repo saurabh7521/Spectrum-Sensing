{
 "cells": [
  {
   "cell_type": "code",
   "execution_count": null,
   "id": "72b2cd16",
   "metadata": {},
   "outputs": [
    {
     "name": "stdout",
     "output_type": "stream",
     "text": [
      "Loading mmap’ed arrays …\n",
      "Splitting with stratification …\n",
      "   writing test  (255,591 samples)\n",
      "   writing signals_train  (2,300,313 samples)\n",
      "\n",
      "Done!  Train/Test sets are in /Users/saurabhtiwari/Library/CloudStorage/OneDrive-TrinityCollege/Tinity/Summer 2025/RF Signal Classification/Dataset/Test_Train\n"
     ]
    }
   ],
   "source": [
    "# Dataset/Test_Train/\n",
    "#     ├── test_X.npy\n",
    "#     ├── test_y.npy\n",
    "#     ├── signals_train.npy      # 90 % of the data, shuffled\n",
    "#     └── labels_train.npy\n",
    "\n",
    "\n",
    "\n",
    "#!/usr/bin/env python3\n",
    "\"\"\"\n",
    "split_train_test.py: split DeepSig RadioML 2018.01A into\n",
    "a stratified 90 % train set and 10 % test set.\n",
    "\n",
    "Run:  python split_train_test.py\n",
    "\"\"\"\n",
    "\n",
    "import numpy as np\n",
    "import os\n",
    "from pathlib import Path\n",
    "from sklearn.model_selection import train_test_split\n",
    "\n",
    "# Configuration\n",
    "ROOT         = Path('/Users/.../Dataset')   # folder with signals.npy + labels.npy\n",
    "TEST_RATIO   = 0.10        # 10 % hold-out\n",
    "OUT_DIR      = ROOT / \"Test_Train\"\n",
    "OUT_DIR.mkdir(exist_ok=True)\n",
    "\n",
    "print(\"Loading mmap’ed arrays …\")\n",
    "X = np.load(ROOT / \"signals.npy\", mmap_mode='r')       # shape (2 555 904, 1024, 2)\n",
    "y = np.load(ROOT / \"labels.npy\",  mmap_mode='r')       # shape (2 555 904, 24 one-hot)\n",
    "\n",
    "# Derive integer class labels for stratification\n",
    "class_ids = np.argmax(y, axis=1).astype(np.int16)\n",
    "\n",
    "print(\"Splitting with stratification …\")\n",
    "train_idx, test_idx = train_test_split(\n",
    "        np.arange(len(X)),\n",
    "        test_size=TEST_RATIO,\n",
    "        random_state=42,\n",
    "        stratify=class_ids\n",
    ")\n",
    "\n",
    "#  helper to write contiguous blocks to disk \n",
    "def save_subset(name, idx):\n",
    "    \"\"\"Save X[idx], y[idx] contiguous on disk.\"\"\"\n",
    "    print(f\"   writing {name}  ({len(idx):,} samples)\")\n",
    "    sub_X = np.asarray(X[idx])      # materialise contiguous in RAM\n",
    "    sub_y = np.asarray(y[idx])\n",
    "    np.save(OUT_DIR / f\"{name}_X.npy\", sub_X)\n",
    "    np.save(OUT_DIR / f\"{name}_y.npy\", sub_y)\n",
    "    del sub_X, sub_y                # free memory\n",
    "\n",
    "save_subset(\"test\",   test_idx)\n",
    "save_subset(\"signals_train\", train_idx)   # signals_train_X.npy / _y.npy\n",
    "\n",
    "print(\"\\nDone!  Train/Test sets are in\", OUT_DIR)"
   ]
  }
 ],
 "metadata": {
  "kernelspec": {
   "display_name": "base",
   "language": "python",
   "name": "python3"
  },
  "language_info": {
   "codemirror_mode": {
    "name": "ipython",
    "version": 3
   },
   "file_extension": ".py",
   "mimetype": "text/x-python",
   "name": "python",
   "nbconvert_exporter": "python",
   "pygments_lexer": "ipython3",
   "version": "3.12.4"
  }
 },
 "nbformat": 4,
 "nbformat_minor": 5
}
