{
 "cells": [
  {
   "cell_type": "code",
   "execution_count": null,
   "id": "df4651b8",
   "metadata": {},
   "outputs": [
    {
     "name": "stdout",
     "output_type": "stream",
     "text": [
      "Loading training mmap…\n",
      "Total train samples: 2,300,313 → 19 chunks\n",
      "  Saving chunk 0  [0:125000] (125,000 samples)\n",
      "  Saving chunk 1  [125000:250000] (125,000 samples)\n",
      "  Saving chunk 2  [250000:375000] (125,000 samples)\n",
      "  Saving chunk 3  [375000:500000] (125,000 samples)\n",
      "  Saving chunk 4  [500000:625000] (125,000 samples)\n",
      "  Saving chunk 5  [625000:750000] (125,000 samples)\n",
      "  Saving chunk 6  [750000:875000] (125,000 samples)\n",
      "  Saving chunk 7  [875000:1000000] (125,000 samples)\n",
      "  Saving chunk 8  [1000000:1125000] (125,000 samples)\n",
      "  Saving chunk 9  [1125000:1250000] (125,000 samples)\n",
      "  Saving chunk 10  [1250000:1375000] (125,000 samples)\n",
      "  Saving chunk 11  [1375000:1500000] (125,000 samples)\n",
      "  Saving chunk 12  [1500000:1625000] (125,000 samples)\n",
      "  Saving chunk 13  [1625000:1750000] (125,000 samples)\n",
      "  Saving chunk 14  [1750000:1875000] (125,000 samples)\n",
      "  Saving chunk 15  [1875000:2000000] (125,000 samples)\n",
      "  Saving chunk 16  [2000000:2125000] (125,000 samples)\n",
      "  Saving chunk 17  [2125000:2250000] (125,000 samples)\n",
      "  Saving chunk 18  [2250000:2300313] (50,313 samples)\n",
      "\n",
      "All chunks written to /Users/saurabhtiwari/Library/CloudStorage/OneDrive-TrinityCollege/Tinity/Summer 2025/RF Signal Classification/Dataset/Test_Train/chunks\n"
     ]
    }
   ],
   "source": [
    "# Dataset/Test_Train/chunks/\n",
    "#     ├── signals_chunk0.npy\n",
    "#     ├── labels_chunk0.npy\n",
    "#     ├── signals_chunk1.npy\n",
    "#     ├── labels_chunk1.npy\n",
    "#     └── …\n",
    "\n",
    "\n",
    "#!/usr/bin/env python3\n",
    "\"\"\"\n",
    "chunk_train_set.py: split the 90 % training set into ~1 GB chunks.\n",
    "Run after split_train_test.py.\n",
    "\"\"\"\n",
    "\n",
    "import numpy as np\n",
    "import os\n",
    "from pathlib import Path\n",
    "\n",
    "# Setup\n",
    "TRAIN_DIR  = Path('/Users/.../Dataset')\n",
    "CHUNK_DIR  = TRAIN_DIR / \"chunks\"\n",
    "CHUNK_DIR.mkdir(exist_ok=True)\n",
    "CHUNK_SIZE = 125_000          # ~1 GB with (1024,2) float32+label\n",
    "\n",
    "sig_path = TRAIN_DIR / \"signals_train_X.npy\"\n",
    "lab_path = TRAIN_DIR / \"signals_train_y.npy\"\n",
    "\n",
    "print(\"Loading training mmap…\")\n",
    "X = np.load(sig_path, mmap_mode='r')\n",
    "y = np.load(lab_path, mmap_mode='r')\n",
    "\n",
    "assert len(X) == len(y)\n",
    "n_total   = len(X)\n",
    "n_chunks  = (n_total + CHUNK_SIZE - 1) // CHUNK_SIZE\n",
    "print(f\"Total train samples: {n_total:,} → {n_chunks} chunks\")\n",
    "\n",
    "for i in range(n_chunks):\n",
    "    s, e = i*CHUNK_SIZE, min((i+1)*CHUNK_SIZE, n_total)\n",
    "    print(f\"  Saving chunk {i}  [{s}:{e}] ({e-s:,} samples)\")\n",
    "    np.save(CHUNK_DIR / f\"signals_chunk{i}.npy\", np.asarray(X[s:e]))\n",
    "    np.save(CHUNK_DIR / f\"labels_chunk{i}.npy\",  np.asarray(y[s:e]))\n",
    "\n",
    "print(\"\\nAll chunks written to\", CHUNK_DIR)\n"
   ]
  },
  {
   "cell_type": "code",
   "execution_count": null,
   "id": "48b125a7",
   "metadata": {},
   "outputs": [
    {
     "name": "stdout",
     "output_type": "stream",
     "text": [
      "Checking class coverage in each chunk...\n",
      "Chunk 0: Classes [0 1]\n",
      "Chunk 1: Classes [1 2]\n",
      "Chunk 2: Classes [2 3]\n",
      "Chunk 3: Classes [3 4 5]\n",
      "Chunk 4: Classes [5 6]\n",
      "Chunk 5: Classes [6 7]\n",
      "Chunk 6: Classes [7 8 9]\n",
      "Chunk 7: Classes [ 9 10]\n",
      "Chunk 8: Classes [10 11]\n",
      "Chunk 9: Classes [11 12 13]\n",
      "Chunk 10: Classes [13 14]\n",
      "Chunk 11: Classes [14 15]\n",
      "Chunk 12: Classes [15 16]\n",
      "Chunk 13: Classes [16 17 18]\n",
      "Chunk 14: Classes [18 19]\n",
      "Chunk 15: Classes [19 20]\n",
      "Chunk 16: Classes [20 21 22]\n",
      "Chunk 17: Classes [22 23]\n",
      "Chunk 18: Classes [23]\n"
     ]
    }
   ],
   "source": [
    "import numpy as np\n",
    "import os\n",
    "\n",
    "# Configuration\n",
    "chunk_dir = '/Users/.../Dataset/Test_Train/chunks_reduced'\n",
    "num_chunks = 19 \n",
    "chunk_prefix = \"labels_chunk\"\n",
    "chunk_suffix = \".npy\"\n",
    "\n",
    "class_coverage_by_chunk = {}\n",
    "\n",
    "print(\"Checking class coverage in each chunk...\")\n",
    "for i in range(num_chunks):\n",
    "    chunk_path = os.path.join(chunk_dir, f\"{chunk_prefix}{i}{chunk_suffix}\")\n",
    "    y_chunk = np.load(chunk_path)  # load into memory\n",
    "\n",
    "    # Get unique class indices from one-hot encoding\n",
    "    class_indices = np.argmax(y_chunk, axis=1)\n",
    "    unique_classes = np.unique(class_indices)\n",
    "\n",
    "    class_coverage_by_chunk[i] = unique_classes\n",
    "    print(f\"Chunk {i}: Classes {unique_classes}\")\n"
   ]
  }
 ],
 "metadata": {
  "kernelspec": {
   "display_name": "base",
   "language": "python",
   "name": "python3"
  },
  "language_info": {
   "codemirror_mode": {
    "name": "ipython",
    "version": 3
   },
   "file_extension": ".py",
   "mimetype": "text/x-python",
   "name": "python",
   "nbconvert_exporter": "python",
   "pygments_lexer": "ipython3",
   "version": "3.12.4"
  }
 },
 "nbformat": 4,
 "nbformat_minor": 5
}
